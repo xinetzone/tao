{
 "cells": [
  {
   "cell_type": "markdown",
   "metadata": {},
   "source": [
    "# BlackSheep 入门\n",
    "\n",
    "BlackSheep 属于 ASGI Web 框架，因此它 需要 ASGI HTTP 服务器才能运行，例如 [uvicorn](http://www.uvicorn.org/) 或 [hypercorn](https://pgjones.gitlab.io/hypercorn/)。在本教程中，请安装 Uvicorn 和 Blacksheep：\n",
    "```bash\n",
    "pip install blacksheep uvicorn\n",
    "```"
   ]
  },
  {
   "cell_type": "code",
   "execution_count": 1,
   "metadata": {},
   "outputs": [],
   "source": [
    "from pathlib import Path\n",
    "\n",
    "temp_dir = Path(\".temp\") # 创建临时目录\n",
    "if not temp_dir.exists():\n",
    "    temp_dir.mkdir(exist_ok=True)"
   ]
  },
  {
   "cell_type": "markdown",
   "metadata": {},
   "source": [
    "创建文件 `server.py`："
   ]
  },
  {
   "cell_type": "code",
   "execution_count": 2,
   "metadata": {},
   "outputs": [
    {
     "name": "stdout",
     "output_type": "stream",
     "text": [
      "Overwriting .temp/server.py\n"
     ]
    }
   ],
   "source": [
    "%%file {temp_dir}/server.py\n",
    "from datetime import datetime\n",
    "from blacksheep import Application, get\n",
    "\n",
    "\n",
    "app = Application()\n",
    "\n",
    "@get(\"/\")\n",
    "def home():\n",
    "    return f\"Hello, World! {datetime.now().isoformat()}\""
   ]
  },
  {
   "cell_type": "markdown",
   "metadata": {},
   "source": [
    "使用以下命令通过端口 `44777` 启动应用程序，并在文件更改时自动重新加载：\n",
    "```bash\n",
    "cd {temp_dir}&&uvicorn server:app --port 44777 --reload\n",
    "```\n",
    "\n",
    "打开 Web 浏览器并导航到 `http://127.0.0.1:44777`。Web 浏览器将显示来自 Web 应用程序的文本。"
   ]
  },
  {
   "cell_type": "markdown",
   "metadata": {},
   "source": [
    "参考：[MVC](https://www.neoteroi.dev/blacksheep/mvc-project-template/)：\n",
    "```bash\n",
    "# using the provided dev.py file (useful to debug)\n",
    "python dev.py\n",
    "\n",
    "# or using the uvicorn CLI\n",
    "uvicorn app.main:app --port 44777 --lifespan on --reload\n",
    "```"
   ]
  },
  {
   "cell_type": "code",
   "execution_count": null,
   "metadata": {},
   "outputs": [],
   "source": []
  }
 ],
 "metadata": {
  "kernelspec": {
   "display_name": "ai",
   "language": "python",
   "name": "python3"
  },
  "language_info": {
   "codemirror_mode": {
    "name": "ipython",
    "version": 3
   },
   "file_extension": ".py",
   "mimetype": "text/x-python",
   "name": "python",
   "nbconvert_exporter": "python",
   "pygments_lexer": "ipython3",
   "version": "3.12.7"
  }
 },
 "nbformat": 4,
 "nbformat_minor": 2
}
