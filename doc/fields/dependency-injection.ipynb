{
 "cells": [
  {
   "cell_type": "markdown",
   "metadata": {},
   "source": [
    "# rodi: Python 3 的依赖注入实现\n",
    "\n",
    "功能：\n",
    "- 类型解析(types resolution)通过签名类型注解（类型提示）\n",
    "- 类型解析通过类注解（类型提示）\n",
    "- 类型解析通过名称和别名（约定优于配置）\n",
    "- 无侵入式：无需更改类源代码即可构建对象图\n",
    "- 最低开销以获取服务，一旦对象图构建完成\n",
    "- 支持单例、瞬态和作用域服务\n",
    "\n",
    "{mod}`rodi` 在运行时检查代码一次，生成返回所需类型实例的函数 - 只要对象图未被更改。检查是在构造函数（`__init__`）或类注解上进行的。验证步骤，例如检测循环依赖或缺失的服务，是在构建这些函数时进行的，因此激活服务时不需要额外的验证。"
   ]
  },
  {
   "cell_type": "markdown",
   "metadata": {},
   "source": [
    "`rodi` 提供两个代码 API：\n",
    "- 一种尽可能保持通用性，使用 `ContainerProtocol` 来表示那些希望能够用 Python 的依赖注入的替代实现替换 `rodi` 的场景。该协议只期望一个能够 `register` 和 `resolve` 类型，并能够判断是否在其中配置了类型（ `__contains__` ）。即使其他依赖注入的实现没有实现这三个方法，也应该很容易使用[组合](https://en.wikipedia.org/wiki/Composition_over_inheritance)来包装其他库的兼容类。\n",
    "- 一种是一个更具体的实现，对于不希望考虑依赖注入的替代实现的情况。"
   ]
  },
  {
   "cell_type": "markdown",
   "metadata": {},
   "source": [
    "```{admonition} 推荐做法\n",
    "所有服务应在应用程序启动时配置一次，并且在正常程序执行期间不应更改对象图。例如：如果您构建一个 Web 应用程序，则在启动应用程序时配置对象图，处理 Web 请求时避免更改 `Container` 配置。\n",
    "\n",
    "旨在将 `Container` 和服务图从应用程序的前端层抽象出来，并避免将运行时值与容器配置混合。例如：如果您构建 Web 应用程序，尽可能避免依赖于 HTTP 请求对象是您容器中注册的服务。\n",
    "```\n",
    "\n",
    "```{admonition} Service life style\n",
    "- 单例(singleton) - 每个服务提供商仅实例化一次\n",
    "- 瞬态(transient) - 服务每次需要时都会被实例化\n",
    "- 作用域(作用域) - 仅在每个根服务解析调用中实例化一次（例如，每个 Web 请求一次）\n",
    "```"
   ]
  },
  {
   "cell_type": "markdown",
   "metadata": {},
   "source": [
    "## 示例1 \n",
    "\n",
    "本例说明了使用 `Container` 类注册两种类型的基本用法，并通过类型检查实现自动解析。\n",
    "两个服务注册为“瞬态”服务，意味着每次需要时都会创建新的实例。"
   ]
  },
  {
   "cell_type": "code",
   "execution_count": 1,
   "metadata": {},
   "outputs": [],
   "source": [
    "class A:\n",
    "    ...\n",
    "\n",
    "\n",
    "class B:\n",
    "    friend: A"
   ]
  },
  {
   "cell_type": "code",
   "execution_count": 2,
   "metadata": {},
   "outputs": [],
   "source": [
    "from rodi import Container\n",
    "\n",
    "container = Container()\n",
    "\n",
    "container.register(A)\n",
    "container.register(B)\n",
    "example_1 = container.resolve(B)\n",
    "assert isinstance(example_1, B)\n",
    "assert isinstance(example_1.friend, A)\n",
    "\n",
    "example_2 = container.resolve(B)\n",
    "assert isinstance(example_2, B)\n",
    "assert isinstance(example_2.friend, A)\n",
    "\n",
    "assert example_1 is not example_2"
   ]
  },
  {
   "cell_type": "markdown",
   "metadata": {},
   "source": [
    "## 示例2 \n",
    "\n",
    "本例说明了通过基类型注册具体类型并按基类型激活 `Container` 的基本用法。\n",
    "\n",
    "这种模式有助于编写解耦的代码（例如，业务层逻辑与数据访问逻辑的具体实现分离）。"
   ]
  },
  {
   "cell_type": "code",
   "execution_count": 3,
   "metadata": {},
   "outputs": [],
   "source": [
    "from abc import ABC, abstractmethod\n",
    "from dataclasses import dataclass\n",
    "\n",
    "@dataclass\n",
    "class Cat:\n",
    "    id: str\n",
    "    name: str\n",
    "\n",
    "\n",
    "class CatsRepository(ABC):\n",
    "    @abstractmethod\n",
    "    def get_cat(self, cat_id: str) -> Cat:\n",
    "        \"\"\"Gets information of a cat by ID.\"\"\"\n",
    "\n",
    "\n",
    "class SQLiteCatsRepository(CatsRepository):\n",
    "    def get_cat(self, cat_id: str) -> Cat:\n",
    "        \"\"\"Gets information of a cat by ID, from a source SQLite DB.\"\"\"\n",
    "        raise NotImplementedError()"
   ]
  },
  {
   "cell_type": "code",
   "execution_count": 4,
   "metadata": {},
   "outputs": [],
   "source": [
    "from rodi import Container\n",
    "\n",
    "container = Container()\n",
    "\n",
    "container.register(CatsRepository, SQLiteCatsRepository)\n",
    "\n",
    "example_1 = container.resolve(CatsRepository)\n",
    "\n",
    "assert isinstance(example_1, SQLiteCatsRepository)"
   ]
  },
  {
   "cell_type": "markdown",
   "metadata": {},
   "source": [
    "## 示例3\n",
    "本例说明如何配置单例对象。"
   ]
  },
  {
   "cell_type": "code",
   "execution_count": 5,
   "metadata": {},
   "outputs": [],
   "source": [
    "from dataclasses import dataclass\n",
    "\n",
    "@dataclass\n",
    "class Cat:\n",
    "    id: str\n",
    "    name: str"
   ]
  },
  {
   "cell_type": "markdown",
   "metadata": {},
   "source": [
    "使用 `ContainerProtocol`（建议在可能需要用其他依赖注入实现替换当前库时采用）："
   ]
  },
  {
   "cell_type": "code",
   "execution_count": 6,
   "metadata": {},
   "outputs": [],
   "source": [
    "from rodi import Container\n",
    "\n",
    "container = Container()\n",
    "container.register(Cat, instance=Cat(\"1\", \"Celine\"))\n",
    "example = container.resolve(Cat)\n",
    "\n",
    "assert isinstance(example, Cat)\n",
    "assert example.id == \"1\" and example.name == \"Celine\"\n",
    "\n",
    "assert example is container.resolve(Cat)"
   ]
  },
  {
   "cell_type": "markdown",
   "metadata": {},
   "source": [
    "使用原始代码的 API："
   ]
  },
  {
   "cell_type": "code",
   "execution_count": 7,
   "metadata": {},
   "outputs": [],
   "source": [
    "class Foo:\n",
    "    ...\n",
    "\n",
    "\n",
    "container.add_instance(Foo())\n",
    "\n",
    "assert container.resolve(Foo) is container.resolve(Foo)"
   ]
  },
  {
   "cell_type": "markdown",
   "metadata": {},
   "source": [
    "更多教程见：[dependency-injection](https://www.neoteroi.dev/blacksheep/dependency-injection)"
   ]
  },
  {
   "cell_type": "markdown",
   "metadata": {},
   "source": [
    "类型 `A` 被注册为瞬态， `B` 为作用域， `C` 为单例："
   ]
  },
  {
   "cell_type": "code",
   "execution_count": null,
   "metadata": {},
   "outputs": [],
   "source": [
    "from dataclasses import dataclass\n",
    "class A:\n",
    "    ...\n",
    "\n",
    "\n",
    "class B:\n",
    "    ...\n",
    "\n",
    "\n",
    "class C:\n",
    "    ...\n",
    "\n",
    "\n",
    "@dataclass\n",
    "class Foo:\n",
    "    a1: A\n",
    "    a2: A\n",
    "    b1: B\n",
    "    b2: B\n",
    "    c1: C\n",
    "    c2: C"
   ]
  },
  {
   "cell_type": "code",
   "execution_count": 17,
   "metadata": {},
   "outputs": [],
   "source": [
    "from rodi import Container\n",
    "\n",
    "services = Container()\n",
    "services.add_transient(A)\n",
    "services.add_scoped(B)\n",
    "services.add_singleton(C)\n",
    "services.add_scoped(Foo)\n",
    "\n",
    "def test(foo: Foo):\n",
    "    return f\"\"\"\n",
    "    A1: {id(foo.a1)}\n",
    "\n",
    "    A2: {id(foo.a2)}\n",
    "\n",
    "    B1: {id(foo.b1)}\n",
    "\n",
    "    B2: {id(foo.b2)}\n",
    "\n",
    "    C1: {id(foo.c1)}\n",
    "\n",
    "    C2: {id(foo.c2)}\n",
    "    \"\"\""
   ]
  },
  {
   "cell_type": "markdown",
   "metadata": {},
   "source": [
    "- 瞬态服务始终在激活时实例化（`A`）\n",
    "- scoped services 在每个 Web 请求中只实例化一次（`B`）\n",
    "- 单例服务仅激活一次（`C`）"
   ]
  }
 ],
 "metadata": {
  "kernelspec": {
   "display_name": "ai",
   "language": "python",
   "name": "python3"
  },
  "language_info": {
   "codemirror_mode": {
    "name": "ipython",
    "version": 3
   },
   "file_extension": ".py",
   "mimetype": "text/x-python",
   "name": "python",
   "nbconvert_exporter": "python",
   "pygments_lexer": "ipython3",
   "version": "3.12.7"
  }
 },
 "nbformat": 4,
 "nbformat_minor": 2
}
