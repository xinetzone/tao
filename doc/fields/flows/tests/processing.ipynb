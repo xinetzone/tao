{
 "cells": [
  {
   "cell_type": "markdown",
   "metadata": {},
   "source": [
    "# 进程与线程\n",
    "\n",
    "参考：[了解进程、线程、多线程和多处理](https://www.cnblogs.com/traditional/p/17357782.html)\n",
    "\n",
    "进程\n",
    ":   具有其它应用程序无法访问的内存空间的应用程序运行状态，创建 Python 进程的一个例子是运行一个简单的 \"hello world\" 应用程序，或在命令行输入 Python 来启动 REPL（交互式环境）。\n",
    "\n",
    "多个进程可以在一台机器上运行，如果有一台拥有多核 CPU 的机器，就可以同时执行多个进程。在只有一个核的 CPU 上，仍可通过时间片，同时运行多个应用程序。当操作系统使用时间片时，它会在一段时间后自动切换下一个进程并运行它。确定何时发生此切换的算法因操作系统而异。\n",
    "\n",
    "线程\n",
    ":   可以被认为是轻量级进程，此外线程是操作系统可以管理的最小结构，它们不像进程那样有自己的内存空间，相反，它们共享进程的内存。线程与创建它们的进程关联，一个进程总是至少有一个与之关联的线程，通常称为主线程。一个进程还可以创建其他线程，通常称为工作线程或后台线程，这些线程可与主线程同时执行其他工作。线程很像进程，可以在多核 CPU 上并行运行，操作系统也可通过时间片在它们之间切换。当运行一个普通的 Python 应用程序时，会创建一个进程以及一个负责执行具体代码的主线程。\n",
    "\n",
    "```{note}\n",
    "进程是操作系统分配资源的最小单元，线程是操作系统用来调度 CPU 的最小单元。进程好比一个房子，而线程是房子里面干活的人，所以一个进程里面可以有多个线程，线程共享进程里面的资源。因此真正用来工作的是线程，进程只负责提供相应的内存空间和资源。\n",
    "```"
   ]
  },
  {
   "cell_type": "markdown",
   "metadata": {},
   "source": [
    "## 线程"
   ]
  },
  {
   "cell_type": "code",
   "execution_count": 1,
   "metadata": {},
   "outputs": [
    {
     "name": "stdout",
     "output_type": "stream",
     "text": [
      "进程启动，pid 为 2125519\n",
      "该进程内部运行 7 个线程\n",
      "当前正在运行的线程是 MainThread\n",
      "当前线程的线程标识符 140143647082304\n",
      "内核分配给当前线程的原生集成线程 ID 2125519\n"
     ]
    }
   ],
   "source": [
    "import os\n",
    "import threading\n",
    "print(f\"进程启动，pid 为 {os.getpid()}\")\n",
    "print(f\"该进程内部运行 {threading.active_count()} 个线程\")\n",
    "print(f\"当前正在运行的线程是 {threading.current_thread().name}\")\n",
    "print(f\"当前线程的线程标识符 {threading.get_ident()}\")\n",
    "print(f\"内核分配给当前线程的原生集成线程 ID {threading.get_native_id()}\")"
   ]
  },
  {
   "cell_type": "markdown",
   "metadata": {},
   "source": [
    "当前所有存活的 {class}`~threading.Thread` 对象的列表："
   ]
  },
  {
   "cell_type": "code",
   "execution_count": 2,
   "metadata": {},
   "outputs": [
    {
     "data": {
      "text/plain": [
       "[<_MainThread(MainThread, started 140143647082304)>,\n",
       " <Thread(IOPub, started daemon 140143571420736)>,\n",
       " <Heartbeat(Heartbeat, started daemon 140143563028032)>,\n",
       " <Thread(Thread-1 (_watch_pipe_fd), started daemon 140143537849920)>,\n",
       " <Thread(Thread-2 (_watch_pipe_fd), started daemon 140143529440832)>,\n",
       " <ControlThread(Control, started daemon 140143521031744)>,\n",
       " <HistorySavingThread(IPythonHistorySavingThread, started 140143035938368)>]"
      ]
     },
     "execution_count": 2,
     "metadata": {},
     "output_type": "execute_result"
    }
   ],
   "source": [
    "threading.enumerate()"
   ]
  },
  {
   "cell_type": "markdown",
   "metadata": {},
   "source": [
    "{func}`threading.main_thread` 返回主 {class}`~threading.Thread` 对象。一般情况下，主线程是 Python 解释器开始时创建的线程。"
   ]
  },
  {
   "cell_type": "code",
   "execution_count": 3,
   "metadata": {},
   "outputs": [
    {
     "data": {
      "text/plain": [
       "<_MainThread(MainThread, started 140143647082304)>"
      ]
     },
     "execution_count": 3,
     "metadata": {},
     "output_type": "execute_result"
    }
   ],
   "source": [
    "threading.main_thread()"
   ]
  },
  {
   "cell_type": "markdown",
   "metadata": {},
   "source": [
    "进程可创建新的线程，这些线程可通过所谓的多线程技术同时完成其他工作，并共享进程的内存。"
   ]
  },
  {
   "cell_type": "code",
   "execution_count": 4,
   "metadata": {},
   "outputs": [
    {
     "name": "stdout",
     "output_type": "stream",
     "text": [
      "Hello new-thread 线程\n",
      "该进程内部运行 7 个线程\n",
      "当前正在运行的线程是 MainThread\n"
     ]
    }
   ],
   "source": [
    "import threading\n",
    "\n",
    "def hello_from_threading():\n",
    "    print(f\"Hello {threading.current_thread().name} 线程\")\n",
    "\n",
    "hello_thread = threading.Thread(target=hello_from_threading, name=\"new-thread\")\n",
    "hello_thread.start()\n",
    "\n",
    "print(f\"该进程内部运行 {threading.active_count()} 个线程\")\n",
    "print(f\"当前正在运行的线程是 {threading.current_thread().name}\")\n",
    "hello_thread.join()"
   ]
  },
  {
   "cell_type": "markdown",
   "metadata": {},
   "source": [
    "## 进程"
   ]
  },
  {
   "cell_type": "code",
   "execution_count": 6,
   "metadata": {},
   "outputs": [
    {
     "name": "stdout",
     "output_type": "stream",
     "text": [
      "当前子进程的 pid 为 2128809\n"
     ]
    }
   ],
   "source": [
    "import multiprocessing as mp\n",
    "import os\n",
    "\n",
    "def hello_from_process():\n",
    "    print(f\"当前子进程的 pid 为 {os.getpid()}\")\n",
    "\n",
    "# 在 Windows 上必须加上 if __name__ == '__main__'\n",
    "# 否则多进程乎启动失败\n",
    "if __name__ == '__main__':\n",
    "    hello_process = mp.Process(target=hello_from_process)\n",
    "    hello_process.start()\n",
    "    hello_process.join()"
   ]
  },
  {
   "cell_type": "code",
   "execution_count": null,
   "metadata": {},
   "outputs": [],
   "source": []
  }
 ],
 "metadata": {
  "kernelspec": {
   "display_name": "ai",
   "language": "python",
   "name": "python3"
  },
  "language_info": {
   "codemirror_mode": {
    "name": "ipython",
    "version": 3
   },
   "file_extension": ".py",
   "mimetype": "text/x-python",
   "name": "python",
   "nbconvert_exporter": "python",
   "pygments_lexer": "ipython3",
   "version": "3.12.2"
  }
 },
 "nbformat": 4,
 "nbformat_minor": 2
}
