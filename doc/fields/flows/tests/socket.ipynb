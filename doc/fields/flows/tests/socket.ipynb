{
 "cells": [
  {
   "cell_type": "markdown",
   "metadata": {},
   "source": [
    "# 套接字"
   ]
  },
  {
   "cell_type": "markdown",
   "metadata": {},
   "source": [
    "服务器端代码：\n",
    "```python\n",
    "import socket\n",
    "\n",
    "# socket.socket() 会返回一个「主动套接字」\n",
    "server = socket.socket(\n",
    "    # 表示使用 IPv4，如果是 socket.AF_INET6\n",
    "    # 则表示使用 IPv6\n",
    "    socket.AF_INET,\n",
    "    # 表示建立 TCP 连接，如果是 socket.SOCK_DGRAM\n",
    "    # 则表示建立 UDP 连接\n",
    "    socket.SOCK_STREAM\n",
    ")\n",
    "# 当然这两个参数也可以不传，因为默认就是它\n",
    "\n",
    "# 设置套接字属性，这里让端口释放后立刻就能再次使用\n",
    "server.setsockopt(socket.SOL_SOCKET,\n",
    "                  socket.SO_REUSEADDR, True)\n",
    "\n",
    "# 将「主动套接字」绑定在某个 IP 和端口上\n",
    "server.bind((\"localhost\", 12345))\n",
    "# 监听，此时「主动套接字」会变成「监听套接字」\n",
    "# 里面的参数表示 backlog，代表的含义后面说\n",
    "server.listen(5)\n",
    "\n",
    "# 调用 accept，等待客户端连接，此时会阻塞在这里\n",
    "# 如果客户端连接到来，那么会返回「已连接套接字」，也就是这里的 conn\n",
    "# 至于 addr 则是一个元组，保存了客户端连接的信息（IP 和端口）\n",
    "conn, addr = server.accept()\n",
    "\n",
    "# 下面我们通过「已连接套接字」conn 和客户端进行消息的收发\n",
    "# 收消息使用 recv、发消息使用 send，和 read、write 本质是一样的\n",
    "while 1:\n",
    "    msg = conn.recv(1024)\n",
    "    # 当客户端断开连接时，msg 会收到一个空字节串\n",
    "    if not msg:\n",
    "        print(\"客户端已经断开连接\")\n",
    "        conn.close()\n",
    "        break\n",
    "    print(\"客户端发来消息:\", msg.decode(\"utf-8\"))\n",
    "    # 然后我们加点内容之后，再给客户端发过去\n",
    "    conn.send(\"服务端收到, 你发的消息是: \".encode(\"utf-8\") + msg)\n",
    "```"
   ]
  },
  {
   "cell_type": "markdown",
   "metadata": {},
   "source": [
    "客户端代码：\n",
    "```python\n",
    "import socket\n",
    "\n",
    "# 返回主动套接字\n",
    "client = socket.socket(socket.AF_INET,\n",
    "                       socket.SOCK_STREAM)\n",
    "# 连接服务端\n",
    "client.connect((\"localhost\", 12345))\n",
    "while 1:\n",
    "    # 发送消息\n",
    "    data = input(\"请输入内容: \")\n",
    "    if data.strip().lower() in (\"q\", \"quit\", \"exit\"):\n",
    "        client.close()\n",
    "        print(\"Bye~~~\")\n",
    "        break\n",
    "    client.send(data.encode(\"utf-8\"))\n",
    "    print(client.recv(1024).decode(\"utf-8\"))\n",
    "```\n"
   ]
  }
 ],
 "metadata": {
  "language_info": {
   "name": "python"
  }
 },
 "nbformat": 4,
 "nbformat_minor": 2
}
