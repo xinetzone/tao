{
 "cells": [
  {
   "cell_type": "markdown",
   "metadata": {},
   "source": [
    "# 在 asyncio 中调用命令行程序 \n",
    "\n",
    "参考：[在 asyncio 中调用命令行程序](https://www.cnblogs.com/traditional/p/17399054.html#top)\n",
    "\n",
    "Python 编写的应用程序需要 Python 运行环境，然而，并不是所有想要交互的组件都是用 Python 编写的。可能已经使用了 C++ 、Go、Rust 或其他语言编写的应用程序，这些语言提供了更好的运行时特征，或者可以提供很优秀的实现方式，而无需重新实现。可能还希望使用操作系统提供的命令行实用工具，例如 grep 用于搜索大型文件，curl 用于发出 HTTP 请求等。"
   ]
  },
  {
   "cell_type": "code",
   "execution_count": 1,
   "metadata": {},
   "outputs": [
    {
     "name": "stdout",
     "output_type": "stream",
     "text": [
      "进程的 pid: 1544250\n",
      "total 12\n",
      "-rw-rw-r-- 1 ai ai 1831  2月 24 14:47 asyncio-subprocess.ipynb\n",
      "-rw-rw-r-- 1 ai ai   53  2月 24 14:43 index.md\n",
      "-rw-rw-r-- 1 ai ai 2631  2月 24 14:38 switch.ipynb\n",
      "status code: 0\n"
     ]
    }
   ],
   "source": [
    "import asyncio\n",
    "from asyncio.subprocess import Process\n",
    "\n",
    "async def main():\n",
    "    process: Process = await asyncio.create_subprocess_exec(\"ls\", \"-l\")\n",
    "    print(f\"进程的 pid: {process.pid}\")\n",
    "    # 等待子进程执行完毕，并返回状态码\n",
    "    status_code = await process.wait()\n",
    "    print(f\"status code: {status_code}\")\n",
    "\n",
    "await main()"
   ]
  },
  {
   "cell_type": "markdown",
   "metadata": {},
   "source": [
    "控制标准输出："
   ]
  },
  {
   "cell_type": "code",
   "execution_count": null,
   "metadata": {},
   "outputs": [
    {
     "name": "stdout",
     "output_type": "stream",
     "text": [
      "进程的 pid: 1544747\n",
      "total 12\n",
      "drwxrwxr-x 2 ai ai   90  2月 24 14:43 .\n",
      "drwxrwxrwx 6 ai ai  100  2月 24 13:39 ..\n",
      "-rw-rw-r-- 1\n"
     ]
    }
   ],
   "source": [
    "import asyncio\n",
    "from asyncio.subprocess import Process, PIPE\n",
    "from asyncio.streams import StreamReader\n",
    "\n",
    "async def main():\n",
    "    process: Process = await asyncio.create_subprocess_exec(\"ls\", \"-la\", stdout=PIPE)\n",
    "    print(f\"进程的 pid: {process.pid}\")\n",
    "    await process.wait()\n",
    "    # 当子进程执行完毕时，拿到它的 stdout 属性\n",
    "    stdout: StreamReader = process.stdout\n",
    "    # 读取输出内容，如果子进程没有执行完毕，那么 await stdout.read() 会阻塞\n",
    "    content = (await stdout.read()).decode(\"utf-8\")\n",
    "    print(content[: 100])\n",
    "\n",
    "\n",
    "await main()"
   ]
  },
  {
   "cell_type": "markdown",
   "metadata": {},
   "source": [
    "## 与进程交互"
   ]
  },
  {
   "cell_type": "code",
   "execution_count": 6,
   "metadata": {},
   "outputs": [],
   "source": [
    "from pathlib import Path\n",
    "\n",
    "temp_dir = Path(\".temp\")\n",
    "# 创建临时目录\n",
    "if not temp_dir.exists():\n",
    "    temp_dir.mkdir(exist_ok=True)"
   ]
  },
  {
   "cell_type": "code",
   "execution_count": 7,
   "metadata": {},
   "outputs": [
    {
     "name": "stdout",
     "output_type": "stream",
     "text": [
      "Writing .temp/write_data.py\n"
     ]
    }
   ],
   "source": [
    "%%file {temp_dir}/write_data.py\n",
    "import sys\n",
    "[sys.stdout.buffer.write(b'!Hello there!!\\n') for _ in range(1000000)]\n",
    "sys.stdout.flush()"
   ]
  },
  {
   "cell_type": "code",
   "execution_count": 10,
   "metadata": {},
   "outputs": [
    {
     "name": "stdout",
     "output_type": "stream",
     "text": [
      "进程的 pid: 1549378\n",
      "状态码: 0\n"
     ]
    }
   ],
   "source": [
    "from asyncio.subprocess import Process, PIPE\n",
    "\n",
    "async def main():\n",
    "    process: Process = await asyncio.create_subprocess_exec(\n",
    "        \"python\", f\"{temp_dir}/write_data.py\", stdout=PIPE, stderr=PIPE)\n",
    "    print(f\"进程的 pid: {process.pid}\")\n",
    "    # 同样会阻塞，直到进程完成\n",
    "    stdout, stderr = await process.communicate()\n",
    "    print(f\"状态码: {process.returncode}\")\n",
    "\n",
    "await main()"
   ]
  },
  {
   "cell_type": "code",
   "execution_count": null,
   "metadata": {},
   "outputs": [],
   "source": []
  }
 ],
 "metadata": {
  "kernelspec": {
   "display_name": "ai",
   "language": "python",
   "name": "python3"
  },
  "language_info": {
   "codemirror_mode": {
    "name": "ipython",
    "version": 3
   },
   "file_extension": ".py",
   "mimetype": "text/x-python",
   "name": "python",
   "nbconvert_exporter": "python",
   "pygments_lexer": "ipython3",
   "version": "3.12.7"
  }
 },
 "nbformat": 4,
 "nbformat_minor": 2
}
