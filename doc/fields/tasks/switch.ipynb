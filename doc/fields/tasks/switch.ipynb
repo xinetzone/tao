{
 "cells": [
  {
   "cell_type": "markdown",
   "metadata": {},
   "source": [
    "# 强制事件循环切换\n",
    "\n",
    "在 Python 的异步编程中，强制事件循环切换的核心思路是 **主动让出协程控制权或插入调度点**，以下是具体实现方法及原理："
   ]
  },
  {
   "cell_type": "markdown",
   "metadata": {},
   "source": [
    "## 使用 `await` 主动让出控制权\n",
    "\n",
    "1. `await asyncio.sleep(0)` 通过等待零延时的异步操作，强制事件循环切换到其他就绪任务："
   ]
  },
  {
   "cell_type": "code",
   "execution_count": 2,
   "metadata": {},
   "outputs": [
    {
     "name": "stdout",
     "output_type": "stream",
     "text": [
      "Task 1 执行\n",
      "Task 2 执行\n",
      "Task 1 执行\n",
      "Task 2 执行\n"
     ]
    }
   ],
   "source": [
    "import asyncio \n",
    "\n",
    "async def task1():\n",
    "    # while 1:\n",
    "    for _ in range(2):\n",
    "        print(\"Task 1 执行\")\n",
    "        await asyncio.sleep(0)   # 关键点：主动让出控制权\n",
    "\n",
    "async def task2():\n",
    "    # while 1:\n",
    "    for _ in range(2):\n",
    "        print(\"Task 2 执行\")\n",
    "        await asyncio.sleep(0) \n",
    "\n",
    "async def main():\n",
    "    t1 = asyncio.create_task(task1()) \n",
    "    t2 = asyncio.create_task(task2()) \n",
    "    await asyncio.gather(t1,  t2)\n",
    "\n",
    "# asyncio.run(main())\n",
    "await main()"
   ]
  },
  {
   "cell_type": "markdown",
   "metadata": {},
   "source": [
    "`asyncio.sleep(0)` 将当前协程挂起并立即重新加入事件循环队列，触发任务切换。\n",
    "\n",
    "2. `await asyncio.shield()` 通过保护协程并插入调度点："
   ]
  },
  {
   "cell_type": "code",
   "execution_count": 3,
   "metadata": {},
   "outputs": [],
   "source": [
    "await asyncio.shield(asyncio.sleep(0))   # 强制切换但不取消当前任务 "
   ]
  },
  {
   "cell_type": "markdown",
   "metadata": {},
   "source": [
    "频繁使用 `await asyncio.sleep(0)` 会增加调度开销，降低性能。应优先依赖事件循环的自动调度机制。"
   ]
  }
 ],
 "metadata": {
  "kernelspec": {
   "display_name": "ai",
   "language": "python",
   "name": "python3"
  },
  "language_info": {
   "codemirror_mode": {
    "name": "ipython",
    "version": 3
   },
   "file_extension": ".py",
   "mimetype": "text/x-python",
   "name": "python",
   "nbconvert_exporter": "python",
   "pygments_lexer": "ipython3",
   "version": "3.12.2"
  }
 },
 "nbformat": 4,
 "nbformat_minor": 2
}
