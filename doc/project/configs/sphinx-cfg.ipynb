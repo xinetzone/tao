{
 "cells": [
  {
   "cell_type": "markdown",
   "metadata": {},
   "source": [
    "# Sphinx 配置\n",
    "\n",
    "详细配置说明请参考 [configuration](https://www.sphinx-doc.org/en/master/usage/configuration.html)。"
   ]
  },
  {
   "cell_type": "markdown",
   "metadata": {},
   "source": [
    "为了方便项目对 Sphinx 的插件管理，本项目将配置 `doc/conf.py` 进行拆分：\n",
    "- 基础配置（`doc/_config.toml`）：此配置文件包含 Sphinx 的基础配置，用于定制用户配置项。\n",
    "- 主配置（`doc/conf.py`）：为了保证兼容其他 Sphinx 项目，仍然作为主配置接口，承接插件的逻辑接口。\n"
   ]
  },
  {
   "cell_type": "markdown",
   "metadata": {},
   "source": [
    "## `doc/_config.toml`"
   ]
  },
  {
   "cell_type": "markdown",
   "metadata": {},
   "source": []
  }
 ],
 "metadata": {
  "language_info": {
   "name": "python"
  }
 },
 "nbformat": 4,
 "nbformat_minor": 2
}
